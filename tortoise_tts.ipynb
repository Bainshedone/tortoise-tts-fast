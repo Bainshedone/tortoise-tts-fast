{
 "cells": [
  {
   "cell_type": "markdown",
   "metadata": {
    "id": "_pIZ3ZXNp7cf"
   },
   "source": [
    "Welcome to Tortoise! 🐢🐢🐢🐢\n",
    "\n",
    "Before you begin, I **strongly** recommend you turn on a GPU runtime.\n",
    "\n",
    "There's a reason this is called \"Tortoise\" - this model takes up to a minute to perform inference for a single sentence on a GPU. Expect waits on the order of hours on a CPU."
   ]
  },
  {
   "cell_type": "code",
   "execution_count": 1,
   "metadata": {
    "colab": {
     "base_uri": "https://localhost:8080/",
     "height": 1000
    },
    "id": "JrK20I32grP6",
    "outputId": "9711e23e-3bfc-4cb0-c030-25a1cf460972"
   },
   "outputs": [
    {
     "name": "stdout",
     "output_type": "stream",
     "text": [
      "Requirement already satisfied: tqdm in c:\\users\\amadeus\\miniconda3\\lib\\site-packages (from -r requirements.txt (line 1440)) (4.65.0)\n",
      "Requirement already satisfied: rotary_embedding_torch in c:\\users\\amadeus\\miniconda3\\lib\\site-packages (from -r requirements.txt (line 1441)) (0.2.1)\n",
      "Requirement already satisfied: transformers==4.29.2 in c:\\users\\amadeus\\miniconda3\\lib\\site-packages (from -r requirements.txt (line 1442)) (4.29.2)\n",
      "Requirement already satisfied: tokenizers in c:\\users\\amadeus\\miniconda3\\lib\\site-packages (from -r requirements.txt (line 1443)) (0.13.2)\n",
      "Requirement already satisfied: inflect in c:\\users\\amadeus\\miniconda3\\lib\\site-packages (from -r requirements.txt (line 1444)) (6.0.2)\n",
      "Requirement already satisfied: progressbar in c:\\users\\amadeus\\miniconda3\\lib\\site-packages (from -r requirements.txt (line 1445)) (2.5)\n",
      "Requirement already satisfied: einops==0.4.1 in c:\\users\\amadeus\\miniconda3\\lib\\site-packages (from -r requirements.txt (line 1446)) (0.4.1)\n",
      "Requirement already satisfied: unidecode in c:\\users\\amadeus\\miniconda3\\lib\\site-packages (from -r requirements.txt (line 1447)) (1.3.6)\n",
      "Requirement already satisfied: scipy==1.10.1 in c:\\users\\amadeus\\miniconda3\\lib\\site-packages (from -r requirements.txt (line 1448)) (1.10.1)\n",
      "Requirement already satisfied: librosa==0.9.1 in c:\\users\\amadeus\\miniconda3\\lib\\site-packages (from -r requirements.txt (line 1449)) (0.9.1)\n",
      "Requirement already satisfied: numba in c:\\users\\amadeus\\miniconda3\\lib\\site-packages (from -r requirements.txt (line 1450)) (0.56.4)\n",
      "Requirement already satisfied: ffmpeg in c:\\users\\amadeus\\miniconda3\\lib\\site-packages (from -r requirements.txt (line 1451)) (1.4)\n",
      "Requirement already satisfied: numpy in c:\\users\\amadeus\\miniconda3\\lib\\site-packages (from -r requirements.txt (line 1452)) (1.23.5)\n",
      "Requirement already satisfied: threadpoolctl in c:\\users\\amadeus\\miniconda3\\lib\\site-packages (from -r requirements.txt (line 1453)) (3.1.0)\n",
      "Requirement already satisfied: llvmlite in c:\\users\\amadeus\\miniconda3\\lib\\site-packages (from -r requirements.txt (line 1454)) (0.39.1)\n",
      "Requirement already satisfied: appdirs in c:\\users\\amadeus\\miniconda3\\lib\\site-packages (from -r requirements.txt (line 1455)) (1.4.4)\n",
      "Requirement already satisfied: soundfile in c:\\users\\amadeus\\miniconda3\\lib\\site-packages (from -r requirements.txt (line 1456)) (0.12.1)\n",
      "Obtaining file:///C:/Users/amadeus/Documents/tortoise-tts-fast\n",
      "  Installing build dependencies: started\n",
      "  Installing build dependencies: finished with status 'done'\n",
      "  Checking if build backend supports build_editable: started\n",
      "  Checking if build backend supports build_editable: finished with status 'done'\n",
      "  Getting requirements to build editable: started\n",
      "  Getting requirements to build editable: finished with status 'done'\n",
      "  Preparing editable metadata (pyproject.toml): started\n",
      "  Preparing editable metadata (pyproject.toml): finished with status 'done'\n",
      "Collecting bigvgan@ git+https://github.com/152334H/BigVGAN.git\n",
      "  Cloning https://github.com/152334H/BigVGAN.git to c:\\users\\amadeus\\appdata\\local\\temp\\pip-install-6xlla3zp\\bigvgan_36e698d076c5457c9d4f704dcbe72aed\n",
      "  Resolved https://github.com/152334H/BigVGAN.git to commit b10aaeea6ff7e5704d4f8198071cf9a4c174e78a\n",
      "  Preparing metadata (setup.py): started\n",
      "  Preparing metadata (setup.py): finished with status 'done'\n",
      "Requirement already satisfied: scipy<2.0.0,>=1.10.0 in c:\\users\\amadeus\\miniconda3\\lib\\site-packages (from tortoise==3.0.0) (1.10.1)\n",
      "Collecting einops<0.7.0,>=0.6.0\n",
      "  Using cached einops-0.6.1-py3-none-any.whl (42 kB)\n",
      "Requirement already satisfied: k-diffusion<0.0.15,>=0.0.14 in c:\\users\\amadeus\\miniconda3\\lib\\site-packages (from tortoise==3.0.0) (0.0.14)\n",
      "Requirement already satisfied: gdown<5.0.0,>=4.6.4 in c:\\users\\amadeus\\miniconda3\\lib\\site-packages (from tortoise==3.0.0) (4.6.4)\n",
      "Requirement already satisfied: Unidecode<2.0.0,>=1.3.6 in c:\\users\\amadeus\\miniconda3\\lib\\site-packages (from tortoise==3.0.0) (1.3.6)\n",
      "Requirement already satisfied: tokenizers<0.14.0,>=0.13.2 in c:\\users\\amadeus\\miniconda3\\lib\\site-packages (from tortoise==3.0.0) (0.13.2)\n",
      "Requirement already satisfied: torchaudio<0.14.0,>=0.13.1 in c:\\users\\amadeus\\miniconda3\\lib\\site-packages (from tortoise==3.0.0) (0.13.1)\n",
      "Collecting librosa<0.9.0,>=0.8.1\n",
      "  Using cached librosa-0.8.1-py3-none-any.whl (203 kB)\n",
      "Requirement already satisfied: simple-parsing<0.0.22,>=0.0.21 in c:\\users\\amadeus\\miniconda3\\lib\\site-packages (from tortoise==3.0.0) (0.0.21.post1)\n",
      "Requirement already satisfied: voicefixer<0.2.0,>=0.1.2 in c:\\users\\amadeus\\miniconda3\\lib\\site-packages (from tortoise==3.0.0) (0.1.2)\n",
      "Requirement already satisfied: rotary-embedding-torch<0.3.0,>=0.2.1 in c:\\users\\amadeus\\miniconda3\\lib\\site-packages (from tortoise==3.0.0) (0.2.1)\n",
      "Requirement already satisfied: inflect<7.0.0,>=6.0.2 in c:\\users\\amadeus\\miniconda3\\lib\\site-packages (from tortoise==3.0.0) (6.0.2)\n",
      "Requirement already satisfied: tqdm<5.0.0,>=4.64.1 in c:\\users\\amadeus\\miniconda3\\lib\\site-packages (from tortoise==3.0.0) (4.65.0)\n",
      "Requirement already satisfied: progressbar<3.0,>=2.5 in c:\\users\\amadeus\\miniconda3\\lib\\site-packages (from tortoise==3.0.0) (2.5)\n",
      "Requirement already satisfied: transformers<5.0.0,>=4.26.1 in c:\\users\\amadeus\\miniconda3\\lib\\site-packages (from tortoise==3.0.0) (4.29.2)\n",
      "Requirement already satisfied: numba<0.57.0,>=0.56.4 in c:\\users\\amadeus\\miniconda3\\lib\\site-packages (from tortoise==3.0.0) (0.56.4)\n",
      "Requirement already satisfied: streamlit<2.0.0,>=1.18.1 in c:\\users\\amadeus\\miniconda3\\lib\\site-packages (from tortoise==3.0.0) (1.20.0)\n",
      "Requirement already satisfied: filelock in c:\\users\\amadeus\\miniconda3\\lib\\site-packages (from gdown<5.0.0,>=4.6.4->tortoise==3.0.0) (3.9.0)\n",
      "Requirement already satisfied: six in c:\\users\\amadeus\\miniconda3\\lib\\site-packages (from gdown<5.0.0,>=4.6.4->tortoise==3.0.0) (1.16.0)\n",
      "Requirement already satisfied: beautifulsoup4 in c:\\users\\amadeus\\miniconda3\\lib\\site-packages (from gdown<5.0.0,>=4.6.4->tortoise==3.0.0) (4.11.2)\n",
      "Requirement already satisfied: requests[socks] in c:\\users\\amadeus\\miniconda3\\lib\\site-packages (from gdown<5.0.0,>=4.6.4->tortoise==3.0.0) (2.28.2)\n",
      "Requirement already satisfied: pydantic>=1.9.1 in c:\\users\\amadeus\\miniconda3\\lib\\site-packages (from inflect<7.0.0,>=6.0.2->tortoise==3.0.0) (1.10.6)\n",
      "Requirement already satisfied: kornia in c:\\users\\amadeus\\miniconda3\\lib\\site-packages (from k-diffusion<0.0.15,>=0.0.14->tortoise==3.0.0) (0.6.10)\n",
      "Requirement already satisfied: accelerate in c:\\users\\amadeus\\miniconda3\\lib\\site-packages (from k-diffusion<0.0.15,>=0.0.14->tortoise==3.0.0) (0.17.0)\n",
      "Requirement already satisfied: jsonmerge in c:\\users\\amadeus\\miniconda3\\lib\\site-packages (from k-diffusion<0.0.15,>=0.0.14->tortoise==3.0.0) (1.9.0)\n",
      "Requirement already satisfied: scikit-image in c:\\users\\amadeus\\miniconda3\\lib\\site-packages (from k-diffusion<0.0.15,>=0.0.14->tortoise==3.0.0) (0.20.0)\n",
      "Requirement already satisfied: clip-anytorch in c:\\users\\amadeus\\miniconda3\\lib\\site-packages (from k-diffusion<0.0.15,>=0.0.14->tortoise==3.0.0) (2.5.2)\n",
      "Requirement already satisfied: torchdiffeq in c:\\users\\amadeus\\miniconda3\\lib\\site-packages (from k-diffusion<0.0.15,>=0.0.14->tortoise==3.0.0) (0.2.3)\n",
      "Requirement already satisfied: wandb in c:\\users\\amadeus\\miniconda3\\lib\\site-packages (from k-diffusion<0.0.15,>=0.0.14->tortoise==3.0.0) (0.13.11)\n",
      "Requirement already satisfied: Pillow in c:\\users\\amadeus\\miniconda3\\lib\\site-packages (from k-diffusion<0.0.15,>=0.0.14->tortoise==3.0.0) (9.4.0)\n",
      "Requirement already satisfied: torch in c:\\users\\amadeus\\miniconda3\\lib\\site-packages (from k-diffusion<0.0.15,>=0.0.14->tortoise==3.0.0) (1.13.1)\n",
      "Requirement already satisfied: clean-fid in c:\\users\\amadeus\\miniconda3\\lib\\site-packages (from k-diffusion<0.0.15,>=0.0.14->tortoise==3.0.0) (0.1.35)\n",
      "Requirement already satisfied: torchvision in c:\\users\\amadeus\\miniconda3\\lib\\site-packages (from k-diffusion<0.0.15,>=0.0.14->tortoise==3.0.0) (0.14.1)\n",
      "Requirement already satisfied: resize-right in c:\\users\\amadeus\\miniconda3\\lib\\site-packages (from k-diffusion<0.0.15,>=0.0.14->tortoise==3.0.0) (0.0.2)\n",
      "Requirement already satisfied: torchsde in c:\\users\\amadeus\\miniconda3\\lib\\site-packages (from k-diffusion<0.0.15,>=0.0.14->tortoise==3.0.0) (0.2.5)\n",
      "Requirement already satisfied: numpy>=1.15.0 in c:\\users\\amadeus\\miniconda3\\lib\\site-packages (from librosa<0.9.0,>=0.8.1->tortoise==3.0.0) (1.23.5)\n",
      "Requirement already satisfied: packaging>=20.0 in c:\\users\\amadeus\\miniconda3\\lib\\site-packages (from librosa<0.9.0,>=0.8.1->tortoise==3.0.0) (23.0)\n",
      "Requirement already satisfied: audioread>=2.0.0 in c:\\users\\amadeus\\miniconda3\\lib\\site-packages (from librosa<0.9.0,>=0.8.1->tortoise==3.0.0) (3.0.0)\n",
      "Requirement already satisfied: resampy>=0.2.2 in c:\\users\\amadeus\\miniconda3\\lib\\site-packages (from librosa<0.9.0,>=0.8.1->tortoise==3.0.0) (0.4.2)\n",
      "Requirement already satisfied: scikit-learn!=0.19.0,>=0.14.0 in c:\\users\\amadeus\\miniconda3\\lib\\site-packages (from librosa<0.9.0,>=0.8.1->tortoise==3.0.0) (1.2.2)\n",
      "Requirement already satisfied: pooch>=1.0 in c:\\users\\amadeus\\miniconda3\\lib\\site-packages (from librosa<0.9.0,>=0.8.1->tortoise==3.0.0) (1.7.0)\n",
      "Requirement already satisfied: soundfile>=0.10.2 in c:\\users\\amadeus\\miniconda3\\lib\\site-packages (from librosa<0.9.0,>=0.8.1->tortoise==3.0.0) (0.12.1)\n",
      "Requirement already satisfied: joblib>=0.14 in c:\\users\\amadeus\\miniconda3\\lib\\site-packages (from librosa<0.9.0,>=0.8.1->tortoise==3.0.0) (1.2.0)\n",
      "Requirement already satisfied: decorator>=3.0.0 in c:\\users\\amadeus\\miniconda3\\lib\\site-packages (from librosa<0.9.0,>=0.8.1->tortoise==3.0.0) (5.1.1)\n",
      "Requirement already satisfied: llvmlite<0.40,>=0.39.0dev0 in c:\\users\\amadeus\\miniconda3\\lib\\site-packages (from numba<0.57.0,>=0.56.4->tortoise==3.0.0) (0.39.1)\n",
      "Requirement already satisfied: setuptools in c:\\users\\amadeus\\miniconda3\\lib\\site-packages (from numba<0.57.0,>=0.56.4->tortoise==3.0.0) (67.6.0)\n",
      "Requirement already satisfied: typing-extensions in c:\\users\\amadeus\\miniconda3\\lib\\site-packages (from simple-parsing<0.0.22,>=0.0.21->tortoise==3.0.0) (4.5.0)\n",
      "Requirement already satisfied: docstring-parser~=0.15 in c:\\users\\amadeus\\miniconda3\\lib\\site-packages (from simple-parsing<0.0.22,>=0.0.21->tortoise==3.0.0) (0.15)\n",
      "Requirement already satisfied: blinker>=1.0.0 in c:\\users\\amadeus\\miniconda3\\lib\\site-packages (from streamlit<2.0.0,>=1.18.1->tortoise==3.0.0) (1.5)\n",
      "Requirement already satisfied: validators>=0.2 in c:\\users\\amadeus\\miniconda3\\lib\\site-packages (from streamlit<2.0.0,>=1.18.1->tortoise==3.0.0) (0.20.0)\n",
      "Requirement already satisfied: watchdog in c:\\users\\amadeus\\miniconda3\\lib\\site-packages (from streamlit<2.0.0,>=1.18.1->tortoise==3.0.0) (2.3.1)\n",
      "Requirement already satisfied: rich>=10.11.0 in c:\\users\\amadeus\\miniconda3\\lib\\site-packages (from streamlit<2.0.0,>=1.18.1->tortoise==3.0.0) (13.3.2)\n",
      "Requirement already satisfied: pandas<2,>=0.25 in c:\\users\\amadeus\\miniconda3\\lib\\site-packages (from streamlit<2.0.0,>=1.18.1->tortoise==3.0.0) (1.5.3)\n",
      "Requirement already satisfied: pydeck>=0.1.dev5 in c:\\users\\amadeus\\miniconda3\\lib\\site-packages (from streamlit<2.0.0,>=1.18.1->tortoise==3.0.0) (0.8.0)\n",
      "Requirement already satisfied: cachetools>=4.0 in c:\\users\\amadeus\\miniconda3\\lib\\site-packages (from streamlit<2.0.0,>=1.18.1->tortoise==3.0.0) (5.3.0)\n",
      "Requirement already satisfied: pyarrow>=4.0 in c:\\users\\amadeus\\miniconda3\\lib\\site-packages (from streamlit<2.0.0,>=1.18.1->tortoise==3.0.0) (11.0.0)\n",
      "Requirement already satisfied: click>=7.0 in c:\\users\\amadeus\\miniconda3\\lib\\site-packages (from streamlit<2.0.0,>=1.18.1->tortoise==3.0.0) (8.1.3)\n",
      "Requirement already satisfied: toml in c:\\users\\amadeus\\miniconda3\\lib\\site-packages (from streamlit<2.0.0,>=1.18.1->tortoise==3.0.0) (0.10.2)\n",
      "Requirement already satisfied: tzlocal>=1.1 in c:\\users\\amadeus\\miniconda3\\lib\\site-packages (from streamlit<2.0.0,>=1.18.1->tortoise==3.0.0) (4.2)\n",
      "Requirement already satisfied: pympler>=0.9 in c:\\users\\amadeus\\miniconda3\\lib\\site-packages (from streamlit<2.0.0,>=1.18.1->tortoise==3.0.0) (1.0.1)\n",
      "Requirement already satisfied: gitpython!=3.1.19 in c:\\users\\amadeus\\miniconda3\\lib\\site-packages (from streamlit<2.0.0,>=1.18.1->tortoise==3.0.0) (3.1.31)\n",
      "Requirement already satisfied: semver in c:\\users\\amadeus\\miniconda3\\lib\\site-packages (from streamlit<2.0.0,>=1.18.1->tortoise==3.0.0) (2.13.0)\n",
      "Requirement already satisfied: protobuf<4,>=3.12 in c:\\users\\amadeus\\miniconda3\\lib\\site-packages (from streamlit<2.0.0,>=1.18.1->tortoise==3.0.0) (3.20.3)\n",
      "Requirement already satisfied: importlib-metadata>=1.4 in c:\\users\\amadeus\\miniconda3\\lib\\site-packages (from streamlit<2.0.0,>=1.18.1->tortoise==3.0.0) (6.0.0)\n",
      "Requirement already satisfied: python-dateutil in c:\\users\\amadeus\\miniconda3\\lib\\site-packages (from streamlit<2.0.0,>=1.18.1->tortoise==3.0.0) (2.8.2)\n",
      "Requirement already satisfied: tornado>=6.0.3 in c:\\users\\amadeus\\miniconda3\\lib\\site-packages (from streamlit<2.0.0,>=1.18.1->tortoise==3.0.0) (6.2)\n",
      "Requirement already satisfied: altair<5,>=3.2.0 in c:\\users\\amadeus\\miniconda3\\lib\\site-packages (from streamlit<2.0.0,>=1.18.1->tortoise==3.0.0) (4.2.2)\n",
      "Requirement already satisfied: colorama in c:\\users\\amadeus\\miniconda3\\lib\\site-packages (from tqdm<5.0.0,>=4.64.1->tortoise==3.0.0) (0.4.6)\n",
      "Requirement already satisfied: huggingface-hub<1.0,>=0.14.1 in c:\\users\\amadeus\\miniconda3\\lib\\site-packages (from transformers<5.0.0,>=4.26.1->tortoise==3.0.0) (0.16.4)\n",
      "Requirement already satisfied: regex!=2019.12.17 in c:\\users\\amadeus\\miniconda3\\lib\\site-packages (from transformers<5.0.0,>=4.26.1->tortoise==3.0.0) (2022.10.31)\n",
      "Requirement already satisfied: pyyaml>=5.1 in c:\\users\\amadeus\\miniconda3\\lib\\site-packages (from transformers<5.0.0,>=4.26.1->tortoise==3.0.0) (6.0)\n",
      "Requirement already satisfied: matplotlib in c:\\users\\amadeus\\miniconda3\\lib\\site-packages (from voicefixer<0.2.0,>=0.1.2->tortoise==3.0.0) (3.7.1)\n",
      "Requirement already satisfied: torchlibrosa==0.0.7 in c:\\users\\amadeus\\miniconda3\\lib\\site-packages (from voicefixer<0.2.0,>=0.1.2->tortoise==3.0.0) (0.0.7)\n",
      "Requirement already satisfied: pesq in c:\\users\\amadeus\\miniconda3\\lib\\site-packages (from bigvgan@ git+https://github.com/152334H/BigVGAN.git->tortoise==3.0.0) (0.0.4)\n",
      "Requirement already satisfied: auraloss in c:\\users\\amadeus\\miniconda3\\lib\\site-packages (from bigvgan@ git+https://github.com/152334H/BigVGAN.git->tortoise==3.0.0) (0.3.0)\n",
      "Requirement already satisfied: toolz in c:\\users\\amadeus\\miniconda3\\lib\\site-packages (from altair<5,>=3.2.0->streamlit<2.0.0,>=1.18.1->tortoise==3.0.0) (0.12.0)\n",
      "Requirement already satisfied: jinja2 in c:\\users\\amadeus\\miniconda3\\lib\\site-packages (from altair<5,>=3.2.0->streamlit<2.0.0,>=1.18.1->tortoise==3.0.0) (3.1.2)\n",
      "Requirement already satisfied: entrypoints in c:\\users\\amadeus\\miniconda3\\lib\\site-packages (from altair<5,>=3.2.0->streamlit<2.0.0,>=1.18.1->tortoise==3.0.0) (0.4)\n",
      "Requirement already satisfied: jsonschema>=3.0 in c:\\users\\amadeus\\miniconda3\\lib\\site-packages (from altair<5,>=3.2.0->streamlit<2.0.0,>=1.18.1->tortoise==3.0.0) (4.17.3)\n",
      "Requirement already satisfied: gitdb<5,>=4.0.1 in c:\\users\\amadeus\\miniconda3\\lib\\site-packages (from gitpython!=3.1.19->streamlit<2.0.0,>=1.18.1->tortoise==3.0.0) (4.0.10)\n",
      "Requirement already satisfied: fsspec in c:\\users\\amadeus\\miniconda3\\lib\\site-packages (from huggingface-hub<1.0,>=0.14.1->transformers<5.0.0,>=4.26.1->tortoise==3.0.0) (2023.6.0)\n",
      "Requirement already satisfied: zipp>=0.5 in c:\\users\\amadeus\\miniconda3\\lib\\site-packages (from importlib-metadata>=1.4->streamlit<2.0.0,>=1.18.1->tortoise==3.0.0) (3.15.0)\n",
      "Requirement already satisfied: pytz>=2020.1 in c:\\users\\amadeus\\miniconda3\\lib\\site-packages (from pandas<2,>=0.25->streamlit<2.0.0,>=1.18.1->tortoise==3.0.0) (2022.7.1)\n",
      "Requirement already satisfied: platformdirs>=2.5.0 in c:\\users\\amadeus\\miniconda3\\lib\\site-packages (from pooch>=1.0->librosa<0.9.0,>=0.8.1->tortoise==3.0.0) (3.1.1)\n",
      "Requirement already satisfied: certifi>=2017.4.17 in c:\\users\\amadeus\\miniconda3\\lib\\site-packages (from requests[socks]->gdown<5.0.0,>=4.6.4->tortoise==3.0.0) (2022.12.7)\n",
      "Requirement already satisfied: charset-normalizer<4,>=2 in c:\\users\\amadeus\\miniconda3\\lib\\site-packages (from requests[socks]->gdown<5.0.0,>=4.6.4->tortoise==3.0.0) (3.1.0)\n",
      "Requirement already satisfied: urllib3<1.27,>=1.21.1 in c:\\users\\amadeus\\miniconda3\\lib\\site-packages (from requests[socks]->gdown<5.0.0,>=4.6.4->tortoise==3.0.0) (1.26.15)\n",
      "Requirement already satisfied: idna<4,>=2.5 in c:\\users\\amadeus\\miniconda3\\lib\\site-packages (from requests[socks]->gdown<5.0.0,>=4.6.4->tortoise==3.0.0) (3.4)\n",
      "Requirement already satisfied: markdown-it-py<3.0.0,>=2.2.0 in c:\\users\\amadeus\\miniconda3\\lib\\site-packages (from rich>=10.11.0->streamlit<2.0.0,>=1.18.1->tortoise==3.0.0) (2.2.0)\n",
      "Requirement already satisfied: pygments<3.0.0,>=2.13.0 in c:\\users\\amadeus\\miniconda3\\lib\\site-packages (from rich>=10.11.0->streamlit<2.0.0,>=1.18.1->tortoise==3.0.0) (2.14.0)\n",
      "Requirement already satisfied: threadpoolctl>=2.0.0 in c:\\users\\amadeus\\miniconda3\\lib\\site-packages (from scikit-learn!=0.19.0,>=0.14.0->librosa<0.9.0,>=0.8.1->tortoise==3.0.0) (3.1.0)\n",
      "Requirement already satisfied: cffi>=1.0 in c:\\users\\amadeus\\miniconda3\\lib\\site-packages (from soundfile>=0.10.2->librosa<0.9.0,>=0.8.1->tortoise==3.0.0) (1.15.1)\n",
      "Requirement already satisfied: tzdata in c:\\users\\amadeus\\miniconda3\\lib\\site-packages (from tzlocal>=1.1->streamlit<2.0.0,>=1.18.1->tortoise==3.0.0) (2022.7)\n",
      "Requirement already satisfied: pytz-deprecation-shim in c:\\users\\amadeus\\miniconda3\\lib\\site-packages (from tzlocal>=1.1->streamlit<2.0.0,>=1.18.1->tortoise==3.0.0) (0.1.0.post0)\n",
      "Requirement already satisfied: psutil in c:\\users\\amadeus\\miniconda3\\lib\\site-packages (from accelerate->k-diffusion<0.0.15,>=0.0.14->tortoise==3.0.0) (5.9.4)\n",
      "Requirement already satisfied: soupsieve>1.2 in c:\\users\\amadeus\\miniconda3\\lib\\site-packages (from beautifulsoup4->gdown<5.0.0,>=4.6.4->tortoise==3.0.0) (2.4)\n",
      "Requirement already satisfied: ftfy in c:\\users\\amadeus\\miniconda3\\lib\\site-packages (from clip-anytorch->k-diffusion<0.0.15,>=0.0.14->tortoise==3.0.0) (6.1.1)\n",
      "Requirement already satisfied: pyparsing>=2.3.1 in c:\\users\\amadeus\\miniconda3\\lib\\site-packages (from matplotlib->voicefixer<0.2.0,>=0.1.2->tortoise==3.0.0) (3.0.9)\n",
      "Requirement already satisfied: fonttools>=4.22.0 in c:\\users\\amadeus\\miniconda3\\lib\\site-packages (from matplotlib->voicefixer<0.2.0,>=0.1.2->tortoise==3.0.0) (4.39.0)\n",
      "Requirement already satisfied: cycler>=0.10 in c:\\users\\amadeus\\miniconda3\\lib\\site-packages (from matplotlib->voicefixer<0.2.0,>=0.1.2->tortoise==3.0.0) (0.11.0)\n",
      "Requirement already satisfied: kiwisolver>=1.0.1 in c:\\users\\amadeus\\miniconda3\\lib\\site-packages (from matplotlib->voicefixer<0.2.0,>=0.1.2->tortoise==3.0.0) (1.4.4)\n",
      "Requirement already satisfied: contourpy>=1.0.1 in c:\\users\\amadeus\\miniconda3\\lib\\site-packages (from matplotlib->voicefixer<0.2.0,>=0.1.2->tortoise==3.0.0) (1.0.7)\n",
      "Requirement already satisfied: PySocks!=1.5.7,>=1.5.6 in c:\\users\\amadeus\\miniconda3\\lib\\site-packages (from requests[socks]->gdown<5.0.0,>=4.6.4->tortoise==3.0.0) (1.7.1)\n",
      "Requirement already satisfied: tifffile>=2019.7.26 in c:\\users\\amadeus\\miniconda3\\lib\\site-packages (from scikit-image->k-diffusion<0.0.15,>=0.0.14->tortoise==3.0.0) (2023.2.28)\n",
      "Requirement already satisfied: PyWavelets>=1.1.1 in c:\\users\\amadeus\\miniconda3\\lib\\site-packages (from scikit-image->k-diffusion<0.0.15,>=0.0.14->tortoise==3.0.0) (1.4.1)\n",
      "Requirement already satisfied: networkx>=2.8 in c:\\users\\amadeus\\miniconda3\\lib\\site-packages (from scikit-image->k-diffusion<0.0.15,>=0.0.14->tortoise==3.0.0) (3.0)\n",
      "Requirement already satisfied: imageio>=2.4.1 in c:\\users\\amadeus\\miniconda3\\lib\\site-packages (from scikit-image->k-diffusion<0.0.15,>=0.0.14->tortoise==3.0.0) (2.26.0)\n",
      "Requirement already satisfied: lazy_loader>=0.1 in c:\\users\\amadeus\\miniconda3\\lib\\site-packages (from scikit-image->k-diffusion<0.0.15,>=0.0.14->tortoise==3.0.0) (0.1)\n",
      "Requirement already satisfied: trampoline>=0.1.2 in c:\\users\\amadeus\\miniconda3\\lib\\site-packages (from torchsde->k-diffusion<0.0.15,>=0.0.14->tortoise==3.0.0) (0.1.2)\n",
      "Requirement already satisfied: boltons>=20.2.1 in c:\\users\\amadeus\\miniconda3\\lib\\site-packages (from torchsde->k-diffusion<0.0.15,>=0.0.14->tortoise==3.0.0) (23.0.0)\n",
      "Requirement already satisfied: setproctitle in c:\\users\\amadeus\\miniconda3\\lib\\site-packages (from wandb->k-diffusion<0.0.15,>=0.0.14->tortoise==3.0.0) (1.3.2)\n",
      "Requirement already satisfied: docker-pycreds>=0.4.0 in c:\\users\\amadeus\\miniconda3\\lib\\site-packages (from wandb->k-diffusion<0.0.15,>=0.0.14->tortoise==3.0.0) (0.4.0)\n",
      "Requirement already satisfied: pathtools in c:\\users\\amadeus\\miniconda3\\lib\\site-packages (from wandb->k-diffusion<0.0.15,>=0.0.14->tortoise==3.0.0) (0.1.2)\n",
      "Requirement already satisfied: appdirs>=1.4.3 in c:\\users\\amadeus\\miniconda3\\lib\\site-packages (from wandb->k-diffusion<0.0.15,>=0.0.14->tortoise==3.0.0) (1.4.4)\n",
      "Requirement already satisfied: sentry-sdk>=1.0.0 in c:\\users\\amadeus\\miniconda3\\lib\\site-packages (from wandb->k-diffusion<0.0.15,>=0.0.14->tortoise==3.0.0) (1.16.0)\n",
      "Requirement already satisfied: pycparser in c:\\users\\amadeus\\miniconda3\\lib\\site-packages (from cffi>=1.0->soundfile>=0.10.2->librosa<0.9.0,>=0.8.1->tortoise==3.0.0) (2.21)\n",
      "Requirement already satisfied: smmap<6,>=3.0.1 in c:\\users\\amadeus\\miniconda3\\lib\\site-packages (from gitdb<5,>=4.0.1->gitpython!=3.1.19->streamlit<2.0.0,>=1.18.1->tortoise==3.0.0) (5.0.0)\n",
      "Requirement already satisfied: MarkupSafe>=2.0 in c:\\users\\amadeus\\miniconda3\\lib\\site-packages (from jinja2->altair<5,>=3.2.0->streamlit<2.0.0,>=1.18.1->tortoise==3.0.0) (2.1.2)\n",
      "Requirement already satisfied: pyrsistent!=0.17.0,!=0.17.1,!=0.17.2,>=0.14.0 in c:\\users\\amadeus\\miniconda3\\lib\\site-packages (from jsonschema>=3.0->altair<5,>=3.2.0->streamlit<2.0.0,>=1.18.1->tortoise==3.0.0) (0.19.3)\n",
      "Requirement already satisfied: attrs>=17.4.0 in c:\\users\\amadeus\\miniconda3\\lib\\site-packages (from jsonschema>=3.0->altair<5,>=3.2.0->streamlit<2.0.0,>=1.18.1->tortoise==3.0.0) (22.2.0)\n",
      "Requirement already satisfied: mdurl~=0.1 in c:\\users\\amadeus\\miniconda3\\lib\\site-packages (from markdown-it-py<3.0.0,>=2.2.0->rich>=10.11.0->streamlit<2.0.0,>=1.18.1->tortoise==3.0.0) (0.1.2)\n",
      "Requirement already satisfied: wcwidth>=0.2.5 in c:\\users\\amadeus\\miniconda3\\lib\\site-packages (from ftfy->clip-anytorch->k-diffusion<0.0.15,>=0.0.14->tortoise==3.0.0) (0.2.6)\n",
      "Building wheels for collected packages: tortoise\n",
      "  Building editable for tortoise (pyproject.toml): started\n",
      "  Building editable for tortoise (pyproject.toml): finished with status 'done'\n",
      "  Created wheel for tortoise: filename=tortoise-3.0.0-py3-none-any.whl size=17770 sha256=9cedaed853624687b60df644ad99ba772ec7f2702a755d3110f903e3aab7342b\n",
      "  Stored in directory: C:\\Users\\amadeus\\AppData\\Local\\Temp\\pip-ephem-wheel-cache-sirf5_o6\\wheels\\98\\2d\\ca\\5cefd259113851c8232aa770464726c18c0e58b187c5f46918\n",
      "Successfully built tortoise\n",
      "Installing collected packages: einops, librosa, tortoise\n",
      "  Attempting uninstall: einops\n",
      "    Found existing installation: einops 0.4.1\n",
      "    Uninstalling einops-0.4.1:\n",
      "      Successfully uninstalled einops-0.4.1\n",
      "  Attempting uninstall: librosa\n",
      "    Found existing installation: librosa 0.9.1\n",
      "    Uninstalling librosa-0.9.1:\n",
      "      Successfully uninstalled librosa-0.9.1\n",
      "  Attempting uninstall: tortoise\n",
      "    Found existing installation: tortoise 3.0.0\n",
      "    Uninstalling tortoise-3.0.0:\n",
      "      Successfully uninstalled tortoise-3.0.0\n",
      "Successfully installed einops-0.6.1 librosa-0.8.1 tortoise-3.0.0\n"
     ]
    },
    {
     "name": "stderr",
     "output_type": "stream",
     "text": [
      "  Running command git clone --filter=blob:none --quiet https://github.com/152334H/BigVGAN.git 'C:\\Users\\amadeus\\AppData\\Local\\Temp\\pip-install-6xlla3zp\\bigvgan_36e698d076c5457c9d4f704dcbe72aed'\n"
     ]
    },
    {
     "name": "stdout",
     "output_type": "stream",
     "text": [
      "Collecting git+https://github.com/152334H/BigVGAN.git\n",
      "  Cloning https://github.com/152334H/BigVGAN.git to c:\\users\\amadeus\\appdata\\local\\temp\\pip-req-build-hwin1wu_\n",
      "  Resolved https://github.com/152334H/BigVGAN.git to commit b10aaeea6ff7e5704d4f8198071cf9a4c174e78a\n",
      "  Preparing metadata (setup.py): started\n",
      "  Preparing metadata (setup.py): finished with status 'done'\n",
      "Requirement already satisfied: torch in c:\\users\\amadeus\\miniconda3\\lib\\site-packages (from BigVGAN==0.0.1) (1.13.1)\n",
      "Requirement already satisfied: numpy in c:\\users\\amadeus\\miniconda3\\lib\\site-packages (from BigVGAN==0.0.1) (1.23.5)\n",
      "Requirement already satisfied: librosa==0.8.1 in c:\\users\\amadeus\\miniconda3\\lib\\site-packages (from BigVGAN==0.0.1) (0.8.1)\n",
      "Requirement already satisfied: scipy in c:\\users\\amadeus\\miniconda3\\lib\\site-packages (from BigVGAN==0.0.1) (1.10.1)\n",
      "Requirement already satisfied: soundfile in c:\\users\\amadeus\\miniconda3\\lib\\site-packages (from BigVGAN==0.0.1) (0.12.1)\n",
      "Requirement already satisfied: matplotlib in c:\\users\\amadeus\\miniconda3\\lib\\site-packages (from BigVGAN==0.0.1) (3.7.1)\n",
      "Requirement already satisfied: pesq in c:\\users\\amadeus\\miniconda3\\lib\\site-packages (from BigVGAN==0.0.1) (0.0.4)\n",
      "Requirement already satisfied: auraloss in c:\\users\\amadeus\\miniconda3\\lib\\site-packages (from BigVGAN==0.0.1) (0.3.0)\n",
      "Requirement already satisfied: tqdm in c:\\users\\amadeus\\miniconda3\\lib\\site-packages (from BigVGAN==0.0.1) (4.65.0)\n",
      "Requirement already satisfied: scikit-learn!=0.19.0,>=0.14.0 in c:\\users\\amadeus\\miniconda3\\lib\\site-packages (from librosa==0.8.1->BigVGAN==0.0.1) (1.2.2)\n",
      "Requirement already satisfied: joblib>=0.14 in c:\\users\\amadeus\\miniconda3\\lib\\site-packages (from librosa==0.8.1->BigVGAN==0.0.1) (1.2.0)\n",
      "Requirement already satisfied: numba>=0.43.0 in c:\\users\\amadeus\\miniconda3\\lib\\site-packages (from librosa==0.8.1->BigVGAN==0.0.1) (0.56.4)\n",
      "Requirement already satisfied: audioread>=2.0.0 in c:\\users\\amadeus\\miniconda3\\lib\\site-packages (from librosa==0.8.1->BigVGAN==0.0.1) (3.0.0)\n",
      "Requirement already satisfied: decorator>=3.0.0 in c:\\users\\amadeus\\miniconda3\\lib\\site-packages (from librosa==0.8.1->BigVGAN==0.0.1) (5.1.1)\n",
      "Requirement already satisfied: pooch>=1.0 in c:\\users\\amadeus\\miniconda3\\lib\\site-packages (from librosa==0.8.1->BigVGAN==0.0.1) (1.7.0)\n",
      "Requirement already satisfied: resampy>=0.2.2 in c:\\users\\amadeus\\miniconda3\\lib\\site-packages (from librosa==0.8.1->BigVGAN==0.0.1) (0.4.2)\n",
      "Requirement already satisfied: packaging>=20.0 in c:\\users\\amadeus\\miniconda3\\lib\\site-packages (from librosa==0.8.1->BigVGAN==0.0.1) (23.0)\n",
      "Requirement already satisfied: cffi>=1.0 in c:\\users\\amadeus\\miniconda3\\lib\\site-packages (from soundfile->BigVGAN==0.0.1) (1.15.1)\n",
      "Requirement already satisfied: cycler>=0.10 in c:\\users\\amadeus\\miniconda3\\lib\\site-packages (from matplotlib->BigVGAN==0.0.1) (0.11.0)\n",
      "Requirement already satisfied: fonttools>=4.22.0 in c:\\users\\amadeus\\miniconda3\\lib\\site-packages (from matplotlib->BigVGAN==0.0.1) (4.39.0)\n",
      "Requirement already satisfied: pyparsing>=2.3.1 in c:\\users\\amadeus\\miniconda3\\lib\\site-packages (from matplotlib->BigVGAN==0.0.1) (3.0.9)\n",
      "Requirement already satisfied: python-dateutil>=2.7 in c:\\users\\amadeus\\miniconda3\\lib\\site-packages (from matplotlib->BigVGAN==0.0.1) (2.8.2)\n",
      "Requirement already satisfied: pillow>=6.2.0 in c:\\users\\amadeus\\miniconda3\\lib\\site-packages (from matplotlib->BigVGAN==0.0.1) (9.4.0)\n",
      "Requirement already satisfied: kiwisolver>=1.0.1 in c:\\users\\amadeus\\miniconda3\\lib\\site-packages (from matplotlib->BigVGAN==0.0.1) (1.4.4)\n",
      "Requirement already satisfied: contourpy>=1.0.1 in c:\\users\\amadeus\\miniconda3\\lib\\site-packages (from matplotlib->BigVGAN==0.0.1) (1.0.7)\n",
      "Requirement already satisfied: typing-extensions in c:\\users\\amadeus\\miniconda3\\lib\\site-packages (from torch->BigVGAN==0.0.1) (4.5.0)\n",
      "Requirement already satisfied: colorama in c:\\users\\amadeus\\miniconda3\\lib\\site-packages (from tqdm->BigVGAN==0.0.1) (0.4.6)\n",
      "Requirement already satisfied: pycparser in c:\\users\\amadeus\\miniconda3\\lib\\site-packages (from cffi>=1.0->soundfile->BigVGAN==0.0.1) (2.21)\n",
      "Requirement already satisfied: llvmlite<0.40,>=0.39.0dev0 in c:\\users\\amadeus\\miniconda3\\lib\\site-packages (from numba>=0.43.0->librosa==0.8.1->BigVGAN==0.0.1) (0.39.1)\n",
      "Requirement already satisfied: setuptools in c:\\users\\amadeus\\miniconda3\\lib\\site-packages (from numba>=0.43.0->librosa==0.8.1->BigVGAN==0.0.1) (67.6.0)\n",
      "Requirement already satisfied: requests>=2.19.0 in c:\\users\\amadeus\\miniconda3\\lib\\site-packages (from pooch>=1.0->librosa==0.8.1->BigVGAN==0.0.1) (2.28.2)\n",
      "Requirement already satisfied: platformdirs>=2.5.0 in c:\\users\\amadeus\\miniconda3\\lib\\site-packages (from pooch>=1.0->librosa==0.8.1->BigVGAN==0.0.1) (3.1.1)\n",
      "Requirement already satisfied: six>=1.5 in c:\\users\\amadeus\\miniconda3\\lib\\site-packages (from python-dateutil>=2.7->matplotlib->BigVGAN==0.0.1) (1.16.0)\n",
      "Requirement already satisfied: threadpoolctl>=2.0.0 in c:\\users\\amadeus\\miniconda3\\lib\\site-packages (from scikit-learn!=0.19.0,>=0.14.0->librosa==0.8.1->BigVGAN==0.0.1) (3.1.0)\n",
      "Requirement already satisfied: certifi>=2017.4.17 in c:\\users\\amadeus\\miniconda3\\lib\\site-packages (from requests>=2.19.0->pooch>=1.0->librosa==0.8.1->BigVGAN==0.0.1) (2022.12.7)\n",
      "Requirement already satisfied: urllib3<1.27,>=1.21.1 in c:\\users\\amadeus\\miniconda3\\lib\\site-packages (from requests>=2.19.0->pooch>=1.0->librosa==0.8.1->BigVGAN==0.0.1) (1.26.15)\n",
      "Requirement already satisfied: charset-normalizer<4,>=2 in c:\\users\\amadeus\\miniconda3\\lib\\site-packages (from requests>=2.19.0->pooch>=1.0->librosa==0.8.1->BigVGAN==0.0.1) (3.1.0)\n",
      "Requirement already satisfied: idna<4,>=2.5 in c:\\users\\amadeus\\miniconda3\\lib\\site-packages (from requests>=2.19.0->pooch>=1.0->librosa==0.8.1->BigVGAN==0.0.1) (3.4)\n"
     ]
    },
    {
     "name": "stderr",
     "output_type": "stream",
     "text": [
      "  Running command git clone --filter=blob:none --quiet https://github.com/152334H/BigVGAN.git 'C:\\Users\\amadeus\\AppData\\Local\\Temp\\pip-req-build-hwin1wu_'\n"
     ]
    },
    {
     "name": "stdout",
     "output_type": "stream",
     "text": [
      "\n",
      "Note: you may need to restart the kernel to use updated packages.\n"
     ]
    },
    {
     "name": "stderr",
     "output_type": "stream",
     "text": [
      "\n",
      "CondaValueError: prefix already exists: c:\\Users\\amadeus\\Documents\\tortoise-tts-fast\\env\n",
      "\n"
     ]
    }
   ],
   "source": [
    "!git clone https://github.com/Bainshedone/tortoise-tts-fast\n",
    "%cd tortoise-tts-fast\n",
    "!pip3 install -r requirements.txt --no-deps\n",
    "!pip3 install -e .\n",
    "!pip3 install git+https://github.com/152334H/BigVGAN.git\n",
    "# %conda env create -f environment.yml -p ./env \n",
    "# %conda activate ./env\n",
    "# %conda install pytorch torchvision torchaudio pytorch-cuda=11.7 -c pytorch -c nvidia\n",
    "# %python -m pip install -r  requirements.new.txt\n",
    "# %pip3 install git+https://github.com/152334H/BigVGAN.git\n",
    "# %python setup.py install\n",
    "# # if this doesn't work, use: \"conda activate ./env\"\n"
   ]
  },
  {
   "cell_type": "markdown",
   "metadata": {
    "id": "zRW4p3ftjZ3Y"
   },
   "source": [
    "## **Restart the runtime!**"
   ]
  },
  {
   "cell_type": "code",
   "execution_count": null,
   "metadata": {},
   "outputs": [],
   "source": [
    "!python setup.py install\n"
   ]
  },
  {
   "cell_type": "code",
   "execution_count": 2,
   "metadata": {},
   "outputs": [
    {
     "data": {
      "application/vnd.jupyter.widget-view+json": {
       "model_id": "da57005a24dc4b6dbb62bf6520cb4fb8",
       "version_major": 2,
       "version_minor": 0
      },
      "text/plain": [
       "Downloading (…)lve/main/config.json:   0%|          | 0.00/2.11k [00:00<?, ?B/s]"
      ]
     },
     "metadata": {},
     "output_type": "display_data"
    },
    {
     "name": "stderr",
     "output_type": "stream",
     "text": [
      "c:\\Users\\amadeus\\miniconda3\\lib\\site-packages\\huggingface_hub\\file_download.py:133: UserWarning: `huggingface_hub` cache-system uses symlinks by default to efficiently store duplicated files but your machine does not support them in C:\\Users\\amadeus\\.cache\\huggingface\\hub. Caching files will still work but in a degraded version that might require more space on your disk. This warning can be disabled by setting the `HF_HUB_DISABLE_SYMLINKS_WARNING` environment variable. For more details, see https://huggingface.co/docs/huggingface_hub/how-to-cache#limitations.\n",
      "To support symlinks on Windows, you either need to activate Developer Mode or to run Python as an administrator. In order to see activate developer mode, see this article: https://docs.microsoft.com/en-us/windows/apps/get-started/enable-your-device-for-development\n",
      "  warnings.warn(message)\n"
     ]
    },
    {
     "data": {
      "application/vnd.jupyter.widget-view+json": {
       "model_id": "5548c71ee97049be920b7d3d5e26eacf",
       "version_major": 2,
       "version_minor": 0
      },
      "text/plain": [
       "Downloading pytorch_model.bin:   0%|          | 0.00/1.26G [00:00<?, ?B/s]"
      ]
     },
     "metadata": {},
     "output_type": "display_data"
    },
    {
     "data": {
      "application/vnd.jupyter.widget-view+json": {
       "model_id": "84fc7947d2294389851fcc9220915dc0",
       "version_major": 2,
       "version_minor": 0
      },
      "text/plain": [
       "Downloading (…)rocessor_config.json:   0%|          | 0.00/159 [00:00<?, ?B/s]"
      ]
     },
     "metadata": {},
     "output_type": "display_data"
    },
    {
     "data": {
      "application/vnd.jupyter.widget-view+json": {
       "model_id": "0de25255c7fe4a54a5919885dc520557",
       "version_major": 2,
       "version_minor": 0
      },
      "text/plain": [
       "Downloading (…)olve/main/vocab.json:   0%|          | 0.00/1.61k [00:00<?, ?B/s]"
      ]
     },
     "metadata": {},
     "output_type": "display_data"
    },
    {
     "data": {
      "application/vnd.jupyter.widget-view+json": {
       "model_id": "f1a2a46bbfb341f981bc87b759242307",
       "version_major": 2,
       "version_minor": 0
      },
      "text/plain": [
       "Downloading (…)okenizer_config.json:   0%|          | 0.00/181 [00:00<?, ?B/s]"
      ]
     },
     "metadata": {},
     "output_type": "display_data"
    },
    {
     "data": {
      "application/vnd.jupyter.widget-view+json": {
       "model_id": "fea411947128453d9d3653c350cc0559",
       "version_major": 2,
       "version_minor": 0
      },
      "text/plain": [
       "Downloading (…)cial_tokens_map.json:   0%|          | 0.00/85.0 [00:00<?, ?B/s]"
      ]
     },
     "metadata": {},
     "output_type": "display_data"
    },
    {
     "name": "stdout",
     "output_type": "stream",
     "text": [
      "Downloading autoregressive.pth from https://huggingface.co/jbetker/tortoise-tts-v2/resolve/main/.models/autoregressive.pth...\n"
     ]
    },
    {
     "name": "stderr",
     "output_type": "stream",
     "text": [
      "100% |########################################################################|\n"
     ]
    },
    {
     "name": "stdout",
     "output_type": "stream",
     "text": [
      "Done.\n",
      "Downloading diffusion_decoder.pth from https://huggingface.co/jbetker/tortoise-tts-v2/resolve/main/.models/diffusion_decoder.pth...\n"
     ]
    },
    {
     "name": "stderr",
     "output_type": "stream",
     "text": [
      "100% |########################################################################|\n"
     ]
    },
    {
     "name": "stdout",
     "output_type": "stream",
     "text": [
      "Done.\n",
      "Downloading clvp2.pth from https://huggingface.co/jbetker/tortoise-tts-v2/resolve/main/.models/clvp2.pth...\n"
     ]
    },
    {
     "name": "stderr",
     "output_type": "stream",
     "text": [
      "100% |########################################################################|\n"
     ]
    },
    {
     "name": "stdout",
     "output_type": "stream",
     "text": [
      "Done.\n",
      "Downloading vocoder.pth from https://huggingface.co/jbetker/tortoise-tts-v2/resolve/main/.models/vocoder.pth...\n"
     ]
    },
    {
     "name": "stderr",
     "output_type": "stream",
     "text": [
      "100% |########################################################################|\n"
     ]
    },
    {
     "name": "stdout",
     "output_type": "stream",
     "text": [
      "Done.\n"
     ]
    }
   ],
   "source": [
    "\n",
    "\n",
    "import torch\n",
    "import torchaudio\n",
    "import torch.nn as nn\n",
    "import torch.nn.functional as F\n",
    "!pip3 install accelerate>=0.20.3\n",
    "import IPython\n",
    "\n",
    "\n",
    "\n",
    "from tortoise.api import TextToSpeech\n",
    "from tortoise.utils.audio import load_audio, load_voice, load_voices\n",
    "\n",
    "tts = TextToSpeech()"
   ]
  },
  {
   "cell_type": "code",
   "execution_count": 3,
   "metadata": {
    "id": "bt_aoxONjfL2"
   },
   "outputs": [],
   "source": [
    "# This is the text that will be spoken.\n",
    "  #@param {type:\"string\"}\n",
    "#@markdown Show code for multiline text input\n",
    "# Here's something for the poetically inclined.. (set text=)\n",
    "text =\"\"\"\n",
    "Then took the other, as just as fair,\n",
    "And having perhaps the better claim,\n",
    "Because it was grassy and wanted wear;\n",
    "Though as for that the passing there\n",
    "Had worn them really about the same,\"\"\"\n",
    "\n",
    "# Pick a \"preset mode\" to determine quality. Options: {\"ultra_fast\", \"fast\" (default), \"standard\", \"high_quality\"}. See docs in api.py\n",
    "preset = \"fast\" #@param [\"ultra_fast\", \"fast\", \"standard\", \"high_quality\"]"
   ]
  },
  {
   "cell_type": "code",
   "execution_count": null,
   "metadata": {
    "colab": {
     "base_uri": "https://localhost:8080/",
     "height": 287
    },
    "id": "16Xs2SSC3BXa",
    "outputId": "6d13d257-b6f1-4a73-9c42-c1c4ce560622"
   },
   "outputs": [],
   "source": [
    "#@markdown Tortoise can also generate speech using a random voice. The voice changes each time you execute this!\n",
    "#@markdown (Note: random voices can be prone to strange utterances)\n",
    "gen = tts.tts_with_preset(text, voice_samples=None, conditioning_latents=None, preset=preset)\n",
    "torchaudio.save('generated.wav', gen.squeeze(0).cpu(), 24000)\n",
    "IPython.display.Audio('generated.wav')"
   ]
  },
  {
   "cell_type": "code",
   "execution_count": 9,
   "metadata": {
    "id": "jJnJwv3R9uWT"
   },
   "outputs": [
    {
     "name": "stdout",
     "output_type": "stream",
     "text": [
      "mode 0\n"
     ]
    },
    {
     "name": "stderr",
     "output_type": "stream",
     "text": [
      "c:\\Users\\amadeus\\miniconda3\\lib\\site-packages\\torch\\amp\\autocast_mode.py:202: UserWarning: User provided device_type of 'cuda', but CUDA is not available. Disabling\n",
      "  warnings.warn('User provided device_type of \\'cuda\\', but CUDA is not available. Disabling')\n"
     ]
    },
    {
     "name": "stdout",
     "output_type": "stream",
     "text": [
      "Generating autoregressive samples..\n"
     ]
    },
    {
     "name": "stderr",
     "output_type": "stream",
     "text": [
      " 22%|██▏       | 21/96 [15:48<57:10, 45.74s/it]  "
     ]
    },
    {
     "ename": "",
     "evalue": "",
     "output_type": "error",
     "traceback": [
      "\u001b[1;31mCannot execute code, session has been disposed. Please try restarting the Kernel."
     ]
    },
    {
     "ename": "",
     "evalue": "",
     "output_type": "error",
     "traceback": [
      "\u001b[1;31mThe Kernel crashed while executing code in the the current cell or a previous cell. Please review the code in the cell(s) to identify a possible cause of the failure. Click <a href='https://aka.ms/vscodeJupyterKernelCrash'>here</a> for more info. View Jupyter <a href='command:jupyter.viewOutput'>log</a> for further details."
     ]
    }
   ],
   "source": [
    "# Generate speech with the custotm voice.\n",
    "CUSTOM_VOICE_NAME = 'ranni'\n",
    "voice_samples, conditioning_latents = load_voice(CUSTOM_VOICE_NAME)\n",
    "gen = tts.tts_with_preset(text, voice_samples=voice_samples, conditioning_latents=conditioning_latents, \n",
    "                          preset=preset)\n",
    "torchaudio.save(f'generated-{CUSTOM_VOICE_NAME}.wav', gen.squeeze(0).cpu(), 24000)\n",
    "IPython.display.Audio(f'generated-{CUSTOM_VOICE_NAME}.wav')"
   ]
  },
  {
   "cell_type": "code",
   "execution_count": null,
   "metadata": {
    "colab": {
     "base_uri": "https://localhost:8080/",
     "height": 192
    },
    "id": "fYTk8KUezUr5",
    "outputId": "3acc34ee-75fa-4f33-f1ce-ffcb4ed44eba"
   },
   "outputs": [],
   "source": [
    "# You can also combine conditioning voices. Combining voices produces a new voice\n",
    "# with traits from all the parents.\n",
    "#\n",
    "# Lets see what it would sound like if Picard and Kirk had a kid with a penchant for philosophy:\n",
    "voice_samples, conditioning_latents = load_voices(['pat', 'william'])\n",
    "\n",
    "gen = tts.tts_with_preset(\"They used to say that if man was meant to fly, he’d have wings. But he did fly. He discovered he had to.\", \n",
    "                          voice_samples=voice_samples, conditioning_latents=conditioning_latents, \n",
    "                          preset=preset)\n",
    "torchaudio.save('captain_kirkard.wav', gen.squeeze(0).cpu(), 24000)\n",
    "IPython.display.Audio('captain_kirkard.wav')"
   ]
  }
 ],
 "metadata": {
  "accelerator": "GPU",
  "colab": {
   "provenance": []
  },
  "kernelspec": {
   "display_name": "Python 3 (ipykernel)",
   "language": "python",
   "name": "python3"
  },
  "language_info": {
   "codemirror_mode": {
    "name": "ipython",
    "version": 3
   },
   "file_extension": ".py",
   "mimetype": "text/x-python",
   "name": "python",
   "nbconvert_exporter": "python",
   "pygments_lexer": "ipython3",
   "version": "3.10.9"
  }
 },
 "nbformat": 4,
 "nbformat_minor": 4
}
